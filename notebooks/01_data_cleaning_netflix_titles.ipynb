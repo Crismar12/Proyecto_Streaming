{
 "cells": [
  {
   "cell_type": "markdown",
   "id": "43b41f87",
   "metadata": {},
   "source": [
    "# Limpieza del dataframe Netflix_titles.csv\n",
    "## Junio 2025\n",
    "## by Francis"
   ]
  },
  {
   "cell_type": "markdown",
   "id": "8a18a973",
   "metadata": {},
   "source": [
    "### Importar funciones generales"
   ]
  },
  {
   "cell_type": "code",
   "execution_count": 1,
   "id": "e998f605",
   "metadata": {},
   "outputs": [],
   "source": [
    "import sys\n",
    "sys.path.append(r\"C:\\Users\\FRANCIS\\Documents\\Proyecto_Streaming\\scripts\") \n",
    "import utils\n",
    "import pandas as pd"
   ]
  },
  {
   "cell_type": "code",
   "execution_count": 2,
   "id": "8160a2e1",
   "metadata": {},
   "outputs": [
    {
     "data": {
      "text/plain": [
       "<module 'utils' from 'C:\\\\Users\\\\FRANCIS\\\\Documents\\\\Proyecto_Streaming\\\\scripts\\\\utils.py'>"
      ]
     },
     "execution_count": 2,
     "metadata": {},
     "output_type": "execute_result"
    }
   ],
   "source": [
    "import importlib\n",
    "import utils\n",
    "importlib.reload(utils)"
   ]
  },
  {
   "cell_type": "markdown",
   "id": "83ca7fad",
   "metadata": {},
   "source": [
    "### Carga del DataFrame"
   ]
  },
  {
   "cell_type": "code",
   "execution_count": 3,
   "id": "8d6a42cb",
   "metadata": {},
   "outputs": [],
   "source": [
    "df_netflix = utils.cargar_datos(r\"C:\\Users\\FRANCIS\\Documents\\Proyecto_Streaming\\data\\netflix_titles.csv\")"
   ]
  },
  {
   "cell_type": "markdown",
   "id": "a609336b",
   "metadata": {},
   "source": [
    "### Inspección del DataFrame"
   ]
  },
  {
   "cell_type": "code",
   "execution_count": 148,
   "id": "04f995bb",
   "metadata": {},
   "outputs": [
    {
     "data": {
      "text/html": [
       "<div>\n",
       "<style scoped>\n",
       "    .dataframe tbody tr th:only-of-type {\n",
       "        vertical-align: middle;\n",
       "    }\n",
       "\n",
       "    .dataframe tbody tr th {\n",
       "        vertical-align: top;\n",
       "    }\n",
       "\n",
       "    .dataframe thead th {\n",
       "        text-align: right;\n",
       "    }\n",
       "</style>\n",
       "<table border=\"1\" class=\"dataframe\">\n",
       "  <thead>\n",
       "    <tr style=\"text-align: right;\">\n",
       "      <th></th>\n",
       "      <th>show_id</th>\n",
       "      <th>type</th>\n",
       "      <th>title</th>\n",
       "      <th>director</th>\n",
       "      <th>cast</th>\n",
       "      <th>country</th>\n",
       "      <th>date_added</th>\n",
       "      <th>release_year</th>\n",
       "      <th>rating</th>\n",
       "      <th>duration</th>\n",
       "      <th>listed_in</th>\n",
       "      <th>description</th>\n",
       "    </tr>\n",
       "  </thead>\n",
       "  <tbody>\n",
       "    <tr>\n",
       "      <th>0</th>\n",
       "      <td>s1</td>\n",
       "      <td>Movie</td>\n",
       "      <td>Dick Johnson Is Dead</td>\n",
       "      <td>Kirsten Johnson</td>\n",
       "      <td>NaN</td>\n",
       "      <td>United States</td>\n",
       "      <td>September 25, 2021</td>\n",
       "      <td>2020</td>\n",
       "      <td>PG-13</td>\n",
       "      <td>90 min</td>\n",
       "      <td>Documentaries</td>\n",
       "      <td>As her father nears the end of his life, filmm...</td>\n",
       "    </tr>\n",
       "    <tr>\n",
       "      <th>1</th>\n",
       "      <td>s2</td>\n",
       "      <td>TV Show</td>\n",
       "      <td>Blood &amp; Water</td>\n",
       "      <td>NaN</td>\n",
       "      <td>Ama Qamata, Khosi Ngema, Gail Mabalane, Thaban...</td>\n",
       "      <td>South Africa</td>\n",
       "      <td>September 24, 2021</td>\n",
       "      <td>2021</td>\n",
       "      <td>TV-MA</td>\n",
       "      <td>2 Seasons</td>\n",
       "      <td>International TV Shows, TV Dramas, TV Mysteries</td>\n",
       "      <td>After crossing paths at a party, a Cape Town t...</td>\n",
       "    </tr>\n",
       "    <tr>\n",
       "      <th>2</th>\n",
       "      <td>s3</td>\n",
       "      <td>TV Show</td>\n",
       "      <td>Ganglands</td>\n",
       "      <td>Julien Leclercq</td>\n",
       "      <td>Sami Bouajila, Tracy Gotoas, Samuel Jouy, Nabi...</td>\n",
       "      <td>NaN</td>\n",
       "      <td>September 24, 2021</td>\n",
       "      <td>2021</td>\n",
       "      <td>TV-MA</td>\n",
       "      <td>1 Season</td>\n",
       "      <td>Crime TV Shows, International TV Shows, TV Act...</td>\n",
       "      <td>To protect his family from a powerful drug lor...</td>\n",
       "    </tr>\n",
       "    <tr>\n",
       "      <th>3</th>\n",
       "      <td>s4</td>\n",
       "      <td>TV Show</td>\n",
       "      <td>Jailbirds New Orleans</td>\n",
       "      <td>NaN</td>\n",
       "      <td>NaN</td>\n",
       "      <td>NaN</td>\n",
       "      <td>September 24, 2021</td>\n",
       "      <td>2021</td>\n",
       "      <td>TV-MA</td>\n",
       "      <td>1 Season</td>\n",
       "      <td>Docuseries, Reality TV</td>\n",
       "      <td>Feuds, flirtations and toilet talk go down amo...</td>\n",
       "    </tr>\n",
       "    <tr>\n",
       "      <th>4</th>\n",
       "      <td>s5</td>\n",
       "      <td>TV Show</td>\n",
       "      <td>Kota Factory</td>\n",
       "      <td>NaN</td>\n",
       "      <td>Mayur More, Jitendra Kumar, Ranjan Raj, Alam K...</td>\n",
       "      <td>India</td>\n",
       "      <td>September 24, 2021</td>\n",
       "      <td>2021</td>\n",
       "      <td>TV-MA</td>\n",
       "      <td>2 Seasons</td>\n",
       "      <td>International TV Shows, Romantic TV Shows, TV ...</td>\n",
       "      <td>In a city of coaching centers known to train I...</td>\n",
       "    </tr>\n",
       "  </tbody>\n",
       "</table>\n",
       "</div>"
      ],
      "text/plain": [
       "  show_id     type                  title         director  \\\n",
       "0      s1    Movie   Dick Johnson Is Dead  Kirsten Johnson   \n",
       "1      s2  TV Show          Blood & Water              NaN   \n",
       "2      s3  TV Show              Ganglands  Julien Leclercq   \n",
       "3      s4  TV Show  Jailbirds New Orleans              NaN   \n",
       "4      s5  TV Show           Kota Factory              NaN   \n",
       "\n",
       "                                                cast        country  \\\n",
       "0                                                NaN  United States   \n",
       "1  Ama Qamata, Khosi Ngema, Gail Mabalane, Thaban...   South Africa   \n",
       "2  Sami Bouajila, Tracy Gotoas, Samuel Jouy, Nabi...            NaN   \n",
       "3                                                NaN            NaN   \n",
       "4  Mayur More, Jitendra Kumar, Ranjan Raj, Alam K...          India   \n",
       "\n",
       "           date_added  release_year rating   duration  \\\n",
       "0  September 25, 2021          2020  PG-13     90 min   \n",
       "1  September 24, 2021          2021  TV-MA  2 Seasons   \n",
       "2  September 24, 2021          2021  TV-MA   1 Season   \n",
       "3  September 24, 2021          2021  TV-MA   1 Season   \n",
       "4  September 24, 2021          2021  TV-MA  2 Seasons   \n",
       "\n",
       "                                           listed_in  \\\n",
       "0                                      Documentaries   \n",
       "1    International TV Shows, TV Dramas, TV Mysteries   \n",
       "2  Crime TV Shows, International TV Shows, TV Act...   \n",
       "3                             Docuseries, Reality TV   \n",
       "4  International TV Shows, Romantic TV Shows, TV ...   \n",
       "\n",
       "                                         description  \n",
       "0  As her father nears the end of his life, filmm...  \n",
       "1  After crossing paths at a party, a Cape Town t...  \n",
       "2  To protect his family from a powerful drug lor...  \n",
       "3  Feuds, flirtations and toilet talk go down amo...  \n",
       "4  In a city of coaching centers known to train I...  "
      ]
     },
     "execution_count": 148,
     "metadata": {},
     "output_type": "execute_result"
    }
   ],
   "source": [
    "df_netflix.head()"
   ]
  },
  {
   "cell_type": "code",
   "execution_count": 149,
   "id": "9b157fea",
   "metadata": {},
   "outputs": [
    {
     "name": "stdout",
     "output_type": "stream",
     "text": [
      "<class 'pandas.core.frame.DataFrame'>\n",
      "RangeIndex: 8807 entries, 0 to 8806\n",
      "Data columns (total 12 columns):\n",
      " #   Column        Non-Null Count  Dtype \n",
      "---  ------        --------------  ----- \n",
      " 0   show_id       8807 non-null   object\n",
      " 1   type          8807 non-null   object\n",
      " 2   title         8807 non-null   object\n",
      " 3   director      6173 non-null   object\n",
      " 4   cast          7982 non-null   object\n",
      " 5   country       7976 non-null   object\n",
      " 6   date_added    8797 non-null   object\n",
      " 7   release_year  8807 non-null   int64 \n",
      " 8   rating        8803 non-null   object\n",
      " 9   duration      8804 non-null   object\n",
      " 10  listed_in     8807 non-null   object\n",
      " 11  description   8807 non-null   object\n",
      "dtypes: int64(1), object(11)\n",
      "memory usage: 825.8+ KB\n"
     ]
    }
   ],
   "source": [
    "df_netflix.info()"
   ]
  },
  {
   "cell_type": "markdown",
   "id": "1c557d13",
   "metadata": {},
   "source": [
    "### Convertir columna con fechas a datetime "
   ]
  },
  {
   "cell_type": "code",
   "execution_count": 4,
   "id": "3492a980",
   "metadata": {},
   "outputs": [],
   "source": [
    "df_netflix = utils.convertir_a_fecha(df_netflix, ['date_added'])"
   ]
  },
  {
   "cell_type": "code",
   "execution_count": 153,
   "id": "0f7727f2",
   "metadata": {},
   "outputs": [
    {
     "data": {
      "text/plain": [
       "show_id                 object\n",
       "type                    object\n",
       "title                   object\n",
       "director                object\n",
       "cast                    object\n",
       "country                 object\n",
       "date_added      datetime64[ns]\n",
       "release_year             int64\n",
       "rating                  object\n",
       "duration                object\n",
       "listed_in               object\n",
       "description             object\n",
       "dtype: object"
      ]
     },
     "execution_count": 153,
     "metadata": {},
     "output_type": "execute_result"
    }
   ],
   "source": [
    "df_netflix.dtypes"
   ]
  },
  {
   "cell_type": "markdown",
   "id": "ce892fa4",
   "metadata": {},
   "source": [
    "### Ver porcentaje de valores nulos"
   ]
  },
  {
   "cell_type": "code",
   "execution_count": 154,
   "id": "60d5ecbe",
   "metadata": {},
   "outputs": [
    {
     "data": {
      "text/html": [
       "<div>\n",
       "<style scoped>\n",
       "    .dataframe tbody tr th:only-of-type {\n",
       "        vertical-align: middle;\n",
       "    }\n",
       "\n",
       "    .dataframe tbody tr th {\n",
       "        vertical-align: top;\n",
       "    }\n",
       "\n",
       "    .dataframe thead th {\n",
       "        text-align: right;\n",
       "    }\n",
       "</style>\n",
       "<table border=\"1\" class=\"dataframe\">\n",
       "  <thead>\n",
       "    <tr style=\"text-align: right;\">\n",
       "      <th></th>\n",
       "      <th>cantidad_nulos</th>\n",
       "      <th>porcentaje_nulos</th>\n",
       "    </tr>\n",
       "  </thead>\n",
       "  <tbody>\n",
       "    <tr>\n",
       "      <th>director</th>\n",
       "      <td>2634</td>\n",
       "      <td>29.908028</td>\n",
       "    </tr>\n",
       "    <tr>\n",
       "      <th>country</th>\n",
       "      <td>831</td>\n",
       "      <td>9.435676</td>\n",
       "    </tr>\n",
       "    <tr>\n",
       "      <th>cast</th>\n",
       "      <td>825</td>\n",
       "      <td>9.367549</td>\n",
       "    </tr>\n",
       "    <tr>\n",
       "      <th>date_added</th>\n",
       "      <td>98</td>\n",
       "      <td>1.112751</td>\n",
       "    </tr>\n",
       "    <tr>\n",
       "      <th>rating</th>\n",
       "      <td>4</td>\n",
       "      <td>0.045418</td>\n",
       "    </tr>\n",
       "    <tr>\n",
       "      <th>duration</th>\n",
       "      <td>3</td>\n",
       "      <td>0.034064</td>\n",
       "    </tr>\n",
       "    <tr>\n",
       "      <th>show_id</th>\n",
       "      <td>0</td>\n",
       "      <td>0.000000</td>\n",
       "    </tr>\n",
       "    <tr>\n",
       "      <th>type</th>\n",
       "      <td>0</td>\n",
       "      <td>0.000000</td>\n",
       "    </tr>\n",
       "    <tr>\n",
       "      <th>title</th>\n",
       "      <td>0</td>\n",
       "      <td>0.000000</td>\n",
       "    </tr>\n",
       "    <tr>\n",
       "      <th>release_year</th>\n",
       "      <td>0</td>\n",
       "      <td>0.000000</td>\n",
       "    </tr>\n",
       "    <tr>\n",
       "      <th>listed_in</th>\n",
       "      <td>0</td>\n",
       "      <td>0.000000</td>\n",
       "    </tr>\n",
       "    <tr>\n",
       "      <th>description</th>\n",
       "      <td>0</td>\n",
       "      <td>0.000000</td>\n",
       "    </tr>\n",
       "  </tbody>\n",
       "</table>\n",
       "</div>"
      ],
      "text/plain": [
       "              cantidad_nulos  porcentaje_nulos\n",
       "director                2634         29.908028\n",
       "country                  831          9.435676\n",
       "cast                     825          9.367549\n",
       "date_added                98          1.112751\n",
       "rating                     4          0.045418\n",
       "duration                   3          0.034064\n",
       "show_id                    0          0.000000\n",
       "type                       0          0.000000\n",
       "title                      0          0.000000\n",
       "release_year               0          0.000000\n",
       "listed_in                  0          0.000000\n",
       "description                0          0.000000"
      ]
     },
     "execution_count": 154,
     "metadata": {},
     "output_type": "execute_result"
    }
   ],
   "source": [
    "utils.resumen_nulos(df_netflix)"
   ]
  },
  {
   "cell_type": "markdown",
   "id": "0bbce5d9",
   "metadata": {},
   "source": [
    "### Evaluamos en las columnas que no son importantes para los objetivos de los análisis y que tienen valores nulos "
   ]
  },
  {
   "cell_type": "code",
   "execution_count": null,
   "id": "c96061ed",
   "metadata": {},
   "outputs": [
    {
     "data": {
      "text/plain": [
       "\"     show_id     type                                                   title director                                                                                            cast country date_added  release_year rating   duration                                             listed_in                                                                                                                                            description\\n5989   s5990    Movie  13TH: A Conversation with Oprah Winfrey & Ava DuVernay      NaN                                                                     Oprah Winfrey, Ava DuVernay     NaN 2017-01-26          2017    NaN     37 min                                                Movies  Oprah Winfrey sits down with director Ava DuVernay to discuss her Oscar-nominated film, historical cycles of oppression and the broken prison system.\\n6763   s6764  TV Show                                         Fit for Fashion      NaN                                                                                      Louise Roe     NaN        NaT          2015  TV-14  2 Seasons                    International TV Shows, Reality TV  In this reality series, physique meets fashion as contestants compete in challenges to transform both body and image for the grand prize of $100,000.\\n7196   s7197  TV Show                                                Kikoriki      NaN                                                                                   Igor Dmitriev     NaN        NaT          2010   TV-Y  2 Seasons                                              Kids' TV     A wacky rabbit and his gang of animal pals have fun solving problems, sharing stories and exploring their sometimes magical, always special world.\\n7287   s7288  TV Show                                            Lego Friends      NaN  Elisa Schnebelie, Raquel Christiana, Lucia Vecchio, Karen Strassman, Michelle Ruff, Sam Riegel     NaN        NaT          2017   TV-G  3 Seasons                                              Kids' TV                      As a way to make friends, new girl in town Olivia volunteers to work at the Heartlake City World Petacular with four other girls.\\n7586   s7587  TV Show                       Nightmare Tenants, Slum Landlords      NaN                                                                                    Wendi Peters     NaN        NaT          2016  TV-MA  2 Seasons  British TV Shows, International TV Shows, Reality TV              The ongoing housing crisis in Britain has led to an increased number of nasty conflicts between fed-up landlords and exasperated tenants.\""
      ]
     },
     "execution_count": 8,
     "metadata": {},
     "output_type": "execute_result"
    }
   ],
   "source": [
    "evaluar_director = utils.evaluar_fila(df_netflix, \"director\", [\"date_added\", \"rating\", \"show_id\",\"listed_in\", \"country\", \"type\"])\n",
    "evaluar_director.to_string() #sí hay suficientes nulos para eliminar filas (70%< es not null)"
   ]
  },
  {
   "cell_type": "code",
   "execution_count": 9,
   "id": "90fdb137",
   "metadata": {},
   "outputs": [],
   "source": [
    "df_netflix = df_netflix.drop(evaluar_director.index)"
   ]
  },
  {
   "cell_type": "code",
   "execution_count": 10,
   "id": "f564f7a7",
   "metadata": {},
   "outputs": [
    {
     "data": {
      "text/plain": [
       "'Empty DataFrame\\nColumns: [show_id, type, title, director, cast, country, date_added, release_year, rating, duration, listed_in, description]\\nIndex: []'"
      ]
     },
     "execution_count": 10,
     "metadata": {},
     "output_type": "execute_result"
    }
   ],
   "source": [
    "evaluar_cast = utils.evaluar_fila(df_netflix, \"cast\", [\"date_added\", \"rating\", \"show_id\", \"listed_in\", \"country\", \"type\"])\n",
    "evaluar_cast.to_string() #no hay suficientes nulos para eliminar filas (>70% es not null)"
   ]
  },
  {
   "cell_type": "code",
   "execution_count": 11,
   "id": "0f786ff1",
   "metadata": {},
   "outputs": [
    {
     "data": {
      "text/plain": [
       "'Empty DataFrame\\nColumns: [show_id, type, title, director, cast, country, date_added, release_year, rating, duration, listed_in, description]\\nIndex: []'"
      ]
     },
     "execution_count": 11,
     "metadata": {},
     "output_type": "execute_result"
    }
   ],
   "source": [
    "evaluar_duration = utils.evaluar_fila(df_netflix, \"duration\", [\"date_added\", \"rating\", \"show_id\", \"listed_in\", \"country\", \"type\"])\n",
    "evaluar_duration.to_string() #no hay suficientes nulos para eliminar filas (>70% es not null)"
   ]
  },
  {
   "cell_type": "markdown",
   "id": "e92b733f",
   "metadata": {},
   "source": [
    "### Reemplazamos en todas las columnas object del DataFrame los datos nulos por \"Desconocido\""
   ]
  },
  {
   "cell_type": "code",
   "execution_count": 12,
   "id": "44597390",
   "metadata": {},
   "outputs": [],
   "source": [
    "# Columna categórica (object) : Se reemplazan con \"Desconocido\" directamente. \n",
    "columnas_object = [\"director\", \"country\", \"rating\", \"duration\", \"cast\"]\n",
    "df_netflix[columnas_object] = df_netflix[columnas_object].fillna(\"Desconocido\")"
   ]
  },
  {
   "cell_type": "markdown",
   "id": "083385e4",
   "metadata": {},
   "source": [
    "### Se convierte date_added a int para poder calcular la moda y mediana dentro de sus datos"
   ]
  },
  {
   "cell_type": "code",
   "execution_count": 13,
   "id": "c192254e",
   "metadata": {},
   "outputs": [],
   "source": [
    "df_netflix[\"date_added\"] = df_netflix[\"date_added\"].astype(\"int64\")\n"
   ]
  },
  {
   "cell_type": "code",
   "execution_count": 14,
   "id": "e430cd6f",
   "metadata": {},
   "outputs": [
    {
     "data": {
      "text/plain": [
       "show_id         object\n",
       "type            object\n",
       "title           object\n",
       "director        object\n",
       "cast            object\n",
       "country         object\n",
       "date_added       int64\n",
       "release_year     int64\n",
       "rating          object\n",
       "duration        object\n",
       "listed_in       object\n",
       "description     object\n",
       "dtype: object"
      ]
     },
     "execution_count": 14,
     "metadata": {},
     "output_type": "execute_result"
    }
   ],
   "source": [
    "df_netflix.dtypes"
   ]
  },
  {
   "cell_type": "markdown",
   "id": "7bc7c722",
   "metadata": {},
   "source": [
    "### Se aplica la función que reemplaza los valores nulos en date_added por la mediana o moda de la agrupación de datos "
   ]
  },
  {
   "cell_type": "code",
   "execution_count": null,
   "id": "c7e8f4a1",
   "metadata": {},
   "outputs": [],
   "source": [
    "df_netflix = utils.elegir_imputacion(df_netflix, columna=\"date_added\", agrupacion=[\"listed_in\", \"type\", \"country\"], umbral_dispersion=60)"
   ]
  },
  {
   "cell_type": "markdown",
   "id": "6bbabf4c",
   "metadata": {},
   "source": [
    "### Se verifica si hay valores extraños o valores nulos después del reemplazo"
   ]
  },
  {
   "cell_type": "code",
   "execution_count": 16,
   "id": "60e6ce1d",
   "metadata": {},
   "outputs": [
    {
     "name": "stdout",
     "output_type": "stream",
     "text": [
      "[1632528000000000000 1632441600000000000 1632355200000000000 ...\n",
      " 1544054400000000000 1457481600000000000 1578700800000000000]\n",
      "0\n"
     ]
    }
   ],
   "source": [
    "print(df_netflix[\"date_added\"].unique())  \n",
    "print(df_netflix[\"date_added\"].isnull().sum())  "
   ]
  },
  {
   "cell_type": "markdown",
   "id": "74055ab5",
   "metadata": {},
   "source": [
    "### Los valores están en formato int con nanosegundos: se hace la conversión a segundos con timestamp para convertir a datetime"
   ]
  },
  {
   "cell_type": "code",
   "execution_count": 17,
   "id": "01e86e74",
   "metadata": {},
   "outputs": [],
   "source": [
    "# Filtrar valores extremos antes de la conversión\n",
    "df_netflix = df_netflix[df_netflix[\"date_added\"] // 10**9 > 0]  # Evita números negativos\n",
    "df_netflix = df_netflix[df_netflix[\"date_added\"] // 10**9 < 1893456000]  # Máximo permitido (~2030)\n",
    "\n",
    "df_netflix[\"date_added\"] = pd.to_datetime(df_netflix[\"date_added\"] // 10**9, unit=\"s\", errors=\"coerce\")\n"
   ]
  },
  {
   "cell_type": "markdown",
   "id": "e8780e44",
   "metadata": {},
   "source": [
    "### Se verifica aleatoriamente los datos, se confirma si hay valores nulos todavía y si la conversión a datetime fue realizada"
   ]
  },
  {
   "cell_type": "code",
   "execution_count": 18,
   "id": "afd2c6d0",
   "metadata": {},
   "outputs": [
    {
     "name": "stdout",
     "output_type": "stream",
     "text": [
      "     date_added\n",
      "42   2021-09-16\n",
      "4829 2018-06-15\n",
      "4020 2019-03-14\n",
      "8376 2019-05-01\n",
      "1641 2020-11-27\n",
      "8732 2019-08-01\n",
      "1378 2021-01-27\n",
      "465  2021-07-14\n",
      "4463 2018-11-01\n",
      "8650 2015-12-01\n",
      "0\n",
      "show_id                 object\n",
      "type                    object\n",
      "title                   object\n",
      "director                object\n",
      "cast                    object\n",
      "country                 object\n",
      "date_added      datetime64[ns]\n",
      "release_year             int64\n",
      "rating                  object\n",
      "duration                object\n",
      "listed_in               object\n",
      "description             object\n",
      "dtype: object\n"
     ]
    }
   ],
   "source": [
    "print(df_netflix[[\"date_added\"]].sample(10))  \n",
    "print(df_netflix[\"date_added\"].isnull().sum())  \n",
    "print(df_netflix.dtypes)  \n"
   ]
  },
  {
   "cell_type": "markdown",
   "id": "e6a9a5e4",
   "metadata": {},
   "source": [
    "### Se crean las columnas derivadas de date_added y se convierten a tipo int"
   ]
  },
  {
   "cell_type": "code",
   "execution_count": 19,
   "id": "05b11fb3",
   "metadata": {},
   "outputs": [],
   "source": [
    "df_netflix[\"month_added\"] = df_netflix[\"date_added\"].dt.month.astype(\"Int64\")  # Mantiene nulos sin convertirlos a float\n",
    "df_netflix[\"year_added\"] = df_netflix[\"date_added\"].dt.year.astype(\"Int64\")"
   ]
  },
  {
   "cell_type": "code",
   "execution_count": 20,
   "id": "05203239",
   "metadata": {},
   "outputs": [
    {
     "name": "stdout",
     "output_type": "stream",
     "text": [
      "0\n",
      "     date_added  month_added  year_added\n",
      "7539 2017-10-01           10        2017\n",
      "2736 2020-04-01            4        2020\n",
      "2914 2020-02-14            2        2020\n",
      "8113 2018-09-05            9        2018\n",
      "4078 2019-02-27            2        2019\n",
      "2985 2020-01-27            1        2020\n",
      "7616 2019-07-01            7        2019\n",
      "3786 2019-06-01            6        2019\n",
      "7172 2018-07-19            7        2018\n",
      "8177 2018-04-06            4        2018\n"
     ]
    }
   ],
   "source": [
    "print(df_netflix[\"date_added\"].isnull().sum())  # ¿Quedan valores nulos después de todo?\n",
    "print(df_netflix[[\"date_added\", \"month_added\", \"year_added\"]].sample(10))  # Revisión rápida"
   ]
  },
  {
   "cell_type": "code",
   "execution_count": 21,
   "id": "3bd7a158",
   "metadata": {},
   "outputs": [
    {
     "data": {
      "text/html": [
       "<div>\n",
       "<style scoped>\n",
       "    .dataframe tbody tr th:only-of-type {\n",
       "        vertical-align: middle;\n",
       "    }\n",
       "\n",
       "    .dataframe tbody tr th {\n",
       "        vertical-align: top;\n",
       "    }\n",
       "\n",
       "    .dataframe thead th {\n",
       "        text-align: right;\n",
       "    }\n",
       "</style>\n",
       "<table border=\"1\" class=\"dataframe\">\n",
       "  <thead>\n",
       "    <tr style=\"text-align: right;\">\n",
       "      <th></th>\n",
       "      <th>cantidad_nulos</th>\n",
       "      <th>porcentaje_nulos</th>\n",
       "    </tr>\n",
       "  </thead>\n",
       "  <tbody>\n",
       "    <tr>\n",
       "      <th>show_id</th>\n",
       "      <td>0</td>\n",
       "      <td>0.0</td>\n",
       "    </tr>\n",
       "    <tr>\n",
       "      <th>type</th>\n",
       "      <td>0</td>\n",
       "      <td>0.0</td>\n",
       "    </tr>\n",
       "    <tr>\n",
       "      <th>title</th>\n",
       "      <td>0</td>\n",
       "      <td>0.0</td>\n",
       "    </tr>\n",
       "    <tr>\n",
       "      <th>director</th>\n",
       "      <td>0</td>\n",
       "      <td>0.0</td>\n",
       "    </tr>\n",
       "    <tr>\n",
       "      <th>cast</th>\n",
       "      <td>0</td>\n",
       "      <td>0.0</td>\n",
       "    </tr>\n",
       "    <tr>\n",
       "      <th>country</th>\n",
       "      <td>0</td>\n",
       "      <td>0.0</td>\n",
       "    </tr>\n",
       "    <tr>\n",
       "      <th>date_added</th>\n",
       "      <td>0</td>\n",
       "      <td>0.0</td>\n",
       "    </tr>\n",
       "    <tr>\n",
       "      <th>release_year</th>\n",
       "      <td>0</td>\n",
       "      <td>0.0</td>\n",
       "    </tr>\n",
       "    <tr>\n",
       "      <th>rating</th>\n",
       "      <td>0</td>\n",
       "      <td>0.0</td>\n",
       "    </tr>\n",
       "    <tr>\n",
       "      <th>duration</th>\n",
       "      <td>0</td>\n",
       "      <td>0.0</td>\n",
       "    </tr>\n",
       "    <tr>\n",
       "      <th>listed_in</th>\n",
       "      <td>0</td>\n",
       "      <td>0.0</td>\n",
       "    </tr>\n",
       "    <tr>\n",
       "      <th>description</th>\n",
       "      <td>0</td>\n",
       "      <td>0.0</td>\n",
       "    </tr>\n",
       "    <tr>\n",
       "      <th>month_added</th>\n",
       "      <td>0</td>\n",
       "      <td>0.0</td>\n",
       "    </tr>\n",
       "    <tr>\n",
       "      <th>year_added</th>\n",
       "      <td>0</td>\n",
       "      <td>0.0</td>\n",
       "    </tr>\n",
       "  </tbody>\n",
       "</table>\n",
       "</div>"
      ],
      "text/plain": [
       "              cantidad_nulos  porcentaje_nulos\n",
       "show_id                    0               0.0\n",
       "type                       0               0.0\n",
       "title                      0               0.0\n",
       "director                   0               0.0\n",
       "cast                       0               0.0\n",
       "country                    0               0.0\n",
       "date_added                 0               0.0\n",
       "release_year               0               0.0\n",
       "rating                     0               0.0\n",
       "duration                   0               0.0\n",
       "listed_in                  0               0.0\n",
       "description                0               0.0\n",
       "month_added                0               0.0\n",
       "year_added                 0               0.0"
      ]
     },
     "execution_count": 21,
     "metadata": {},
     "output_type": "execute_result"
    }
   ],
   "source": [
    "utils.resumen_nulos(df_netflix)"
   ]
  },
  {
   "cell_type": "markdown",
   "id": "c1bc3416",
   "metadata": {},
   "source": [
    "### Datos duplicados"
   ]
  },
  {
   "cell_type": "code",
   "execution_count": 22,
   "id": "e4367022",
   "metadata": {},
   "outputs": [
    {
     "data": {
      "text/plain": [
       "0"
      ]
     },
     "execution_count": 22,
     "metadata": {},
     "output_type": "execute_result"
    }
   ],
   "source": [
    "df_netflix.duplicated().sum() #NO HAY DATOS DUPLICADOS "
   ]
  },
  {
   "cell_type": "markdown",
   "id": "1f4befc5",
   "metadata": {},
   "source": [
    "### Estandarizar los datos según la columna"
   ]
  },
  {
   "cell_type": "code",
   "execution_count": 23,
   "id": "23534df4",
   "metadata": {},
   "outputs": [],
   "source": [
    "df_netflix = utils.limpiar_texto(df_netflix, [\"type\", \"country\", \"rating\", \"listed_in\",\"title\", \"director\", \"cast\",\"duration\", \"description\"], conservar_mayusculas=[\"title\", \"director\", \"cast\",\"duration\", \"description\"]) "
   ]
  },
  {
   "cell_type": "code",
   "execution_count": 24,
   "id": "554759a2",
   "metadata": {},
   "outputs": [
    {
     "data": {
      "text/html": [
       "<div>\n",
       "<style scoped>\n",
       "    .dataframe tbody tr th:only-of-type {\n",
       "        vertical-align: middle;\n",
       "    }\n",
       "\n",
       "    .dataframe tbody tr th {\n",
       "        vertical-align: top;\n",
       "    }\n",
       "\n",
       "    .dataframe thead th {\n",
       "        text-align: right;\n",
       "    }\n",
       "</style>\n",
       "<table border=\"1\" class=\"dataframe\">\n",
       "  <thead>\n",
       "    <tr style=\"text-align: right;\">\n",
       "      <th></th>\n",
       "      <th>show_id</th>\n",
       "      <th>type</th>\n",
       "      <th>title</th>\n",
       "      <th>director</th>\n",
       "      <th>cast</th>\n",
       "      <th>country</th>\n",
       "      <th>date_added</th>\n",
       "      <th>release_year</th>\n",
       "      <th>rating</th>\n",
       "      <th>duration</th>\n",
       "      <th>listed_in</th>\n",
       "      <th>description</th>\n",
       "      <th>month_added</th>\n",
       "      <th>year_added</th>\n",
       "    </tr>\n",
       "  </thead>\n",
       "  <tbody>\n",
       "    <tr>\n",
       "      <th>0</th>\n",
       "      <td>s1</td>\n",
       "      <td>movie</td>\n",
       "      <td>Dick Johnson Is Dead</td>\n",
       "      <td>Kirsten Johnson</td>\n",
       "      <td>Desconocido</td>\n",
       "      <td>united states</td>\n",
       "      <td>2021-09-25</td>\n",
       "      <td>2020</td>\n",
       "      <td>pg-13</td>\n",
       "      <td>90 min</td>\n",
       "      <td>documentaries</td>\n",
       "      <td>As her father nears the end of his life, filmm...</td>\n",
       "      <td>9</td>\n",
       "      <td>2021</td>\n",
       "    </tr>\n",
       "    <tr>\n",
       "      <th>1</th>\n",
       "      <td>s2</td>\n",
       "      <td>tv show</td>\n",
       "      <td>Blood &amp; Water</td>\n",
       "      <td>Desconocido</td>\n",
       "      <td>Ama Qamata, Khosi Ngema, Gail Mabalane, Thaban...</td>\n",
       "      <td>south africa</td>\n",
       "      <td>2021-09-24</td>\n",
       "      <td>2021</td>\n",
       "      <td>tv-ma</td>\n",
       "      <td>2 Seasons</td>\n",
       "      <td>international tv shows, tv dramas, tv mysteries</td>\n",
       "      <td>After crossing paths at a party, a Cape Town t...</td>\n",
       "      <td>9</td>\n",
       "      <td>2021</td>\n",
       "    </tr>\n",
       "    <tr>\n",
       "      <th>2</th>\n",
       "      <td>s3</td>\n",
       "      <td>tv show</td>\n",
       "      <td>Ganglands</td>\n",
       "      <td>Julien Leclercq</td>\n",
       "      <td>Sami Bouajila, Tracy Gotoas, Samuel Jouy, Nabi...</td>\n",
       "      <td>desconocido</td>\n",
       "      <td>2021-09-24</td>\n",
       "      <td>2021</td>\n",
       "      <td>tv-ma</td>\n",
       "      <td>1 Season</td>\n",
       "      <td>crime tv shows, international tv shows, tv act...</td>\n",
       "      <td>To protect his family from a powerful drug lor...</td>\n",
       "      <td>9</td>\n",
       "      <td>2021</td>\n",
       "    </tr>\n",
       "    <tr>\n",
       "      <th>3</th>\n",
       "      <td>s4</td>\n",
       "      <td>tv show</td>\n",
       "      <td>Jailbirds New Orleans</td>\n",
       "      <td>Desconocido</td>\n",
       "      <td>Desconocido</td>\n",
       "      <td>desconocido</td>\n",
       "      <td>2021-09-24</td>\n",
       "      <td>2021</td>\n",
       "      <td>tv-ma</td>\n",
       "      <td>1 Season</td>\n",
       "      <td>docuseries, reality tv</td>\n",
       "      <td>Feuds, flirtations and toilet talk go down amo...</td>\n",
       "      <td>9</td>\n",
       "      <td>2021</td>\n",
       "    </tr>\n",
       "    <tr>\n",
       "      <th>4</th>\n",
       "      <td>s5</td>\n",
       "      <td>tv show</td>\n",
       "      <td>Kota Factory</td>\n",
       "      <td>Desconocido</td>\n",
       "      <td>Mayur More, Jitendra Kumar, Ranjan Raj, Alam K...</td>\n",
       "      <td>india</td>\n",
       "      <td>2021-09-24</td>\n",
       "      <td>2021</td>\n",
       "      <td>tv-ma</td>\n",
       "      <td>2 Seasons</td>\n",
       "      <td>international tv shows, romantic tv shows, tv ...</td>\n",
       "      <td>In a city of coaching centers known to train I...</td>\n",
       "      <td>9</td>\n",
       "      <td>2021</td>\n",
       "    </tr>\n",
       "  </tbody>\n",
       "</table>\n",
       "</div>"
      ],
      "text/plain": [
       "  show_id     type                  title         director  \\\n",
       "0      s1    movie   Dick Johnson Is Dead  Kirsten Johnson   \n",
       "1      s2  tv show          Blood & Water      Desconocido   \n",
       "2      s3  tv show              Ganglands  Julien Leclercq   \n",
       "3      s4  tv show  Jailbirds New Orleans      Desconocido   \n",
       "4      s5  tv show           Kota Factory      Desconocido   \n",
       "\n",
       "                                                cast        country  \\\n",
       "0                                        Desconocido  united states   \n",
       "1  Ama Qamata, Khosi Ngema, Gail Mabalane, Thaban...   south africa   \n",
       "2  Sami Bouajila, Tracy Gotoas, Samuel Jouy, Nabi...    desconocido   \n",
       "3                                        Desconocido    desconocido   \n",
       "4  Mayur More, Jitendra Kumar, Ranjan Raj, Alam K...          india   \n",
       "\n",
       "  date_added  release_year rating   duration  \\\n",
       "0 2021-09-25          2020  pg-13     90 min   \n",
       "1 2021-09-24          2021  tv-ma  2 Seasons   \n",
       "2 2021-09-24          2021  tv-ma   1 Season   \n",
       "3 2021-09-24          2021  tv-ma   1 Season   \n",
       "4 2021-09-24          2021  tv-ma  2 Seasons   \n",
       "\n",
       "                                           listed_in  \\\n",
       "0                                      documentaries   \n",
       "1    international tv shows, tv dramas, tv mysteries   \n",
       "2  crime tv shows, international tv shows, tv act...   \n",
       "3                             docuseries, reality tv   \n",
       "4  international tv shows, romantic tv shows, tv ...   \n",
       "\n",
       "                                         description  month_added  year_added  \n",
       "0  As her father nears the end of his life, filmm...            9        2021  \n",
       "1  After crossing paths at a party, a Cape Town t...            9        2021  \n",
       "2  To protect his family from a powerful drug lor...            9        2021  \n",
       "3  Feuds, flirtations and toilet talk go down amo...            9        2021  \n",
       "4  In a city of coaching centers known to train I...            9        2021  "
      ]
     },
     "execution_count": 24,
     "metadata": {},
     "output_type": "execute_result"
    }
   ],
   "source": [
    "df_netflix.head() "
   ]
  },
  {
   "cell_type": "code",
   "execution_count": 25,
   "id": "cf15db46",
   "metadata": {},
   "outputs": [
    {
     "data": {
      "text/plain": [
       "show_id                 object\n",
       "type                    object\n",
       "title                   object\n",
       "director                object\n",
       "cast                    object\n",
       "country                 object\n",
       "date_added      datetime64[ns]\n",
       "release_year             int64\n",
       "rating                  object\n",
       "duration                object\n",
       "listed_in               object\n",
       "description             object\n",
       "month_added              Int64\n",
       "year_added               Int64\n",
       "dtype: object"
      ]
     },
     "execution_count": 25,
     "metadata": {},
     "output_type": "execute_result"
    }
   ],
   "source": [
    "df_netflix.dtypes"
   ]
  },
  {
   "cell_type": "markdown",
   "id": "9acc6743",
   "metadata": {},
   "source": [
    "### Guardar el DataFrame limpio"
   ]
  },
  {
   "cell_type": "code",
   "execution_count": 26,
   "id": "b41ea88f",
   "metadata": {},
   "outputs": [],
   "source": [
    "df_netflix.to_csv(\"netflix_limpio.csv\", index=False)  \n",
    "df_netflix.to_parquet(\"netflix_limpio.parquet\")  "
   ]
  }
 ],
 "metadata": {
  "kernelspec": {
   "display_name": "venv",
   "language": "python",
   "name": "python3"
  },
  "language_info": {
   "codemirror_mode": {
    "name": "ipython",
    "version": 3
   },
   "file_extension": ".py",
   "mimetype": "text/x-python",
   "name": "python",
   "nbconvert_exporter": "python",
   "pygments_lexer": "ipython3",
   "version": "3.8.10"
  }
 },
 "nbformat": 4,
 "nbformat_minor": 5
}
