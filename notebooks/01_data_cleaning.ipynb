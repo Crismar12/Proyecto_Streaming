{
 "cells": [
  {
   "cell_type": "markdown",
   "id": "9f288000",
   "metadata": {},
   "source": [
    "# Análisis de datos de plataformas streaming\n",
    "\n",
    "### Mayo 2025\n",
    "### by Francis\n",
    "\n",
    "## Carga de datos"
   ]
  },
  {
   "cell_type": "code",
   "execution_count": 1,
   "id": "50ffc908",
   "metadata": {},
   "outputs": [],
   "source": [
    "import pandas as pd\n",
    "\n",
    "def read_csv(ruta_csv):\n",
    "\n",
    "    \"\"\"\n",
    "    Lee un archivo CSV y devuelve un Dataframe de pandas.\n",
    "    \n",
    "    Args:\n",
    "        ruta_csv (str): Ruta al archivo CSV.\n",
    "        \n",
    "    Returns:\n",
    "        pandas.DataFrame: Dataframe con los datos del archivo CSV.\n",
    "    \"\"\"\n",
    "    return pd.read_csv(ruta_csv)"
   ]
  },
  {
   "cell_type": "code",
   "execution_count": 13,
   "id": "3e134a01",
   "metadata": {},
   "outputs": [],
   "source": [
    "df_netflix = read_csv(r\"C:\\Users\\FRANCIS\\Documents\\Proyecto_Streaming\\data\\netflix_titles.csv\")\n"
   ]
  },
  {
   "cell_type": "markdown",
   "id": "5c61e10a",
   "metadata": {},
   "source": [
    "### Convertir columnas con fechas a datetime "
   ]
  },
  {
   "cell_type": "code",
   "execution_count": 21,
   "id": "ccdbd479",
   "metadata": {},
   "outputs": [],
   "source": [
    "def convertir_fecha(df, columna):\n",
    "    \n",
    "    \"\"\"\n",
    "    Convierte una columna con fechas a datetime en un DataFrame.\n",
    "    \n",
    "    Args:\n",
    "        df (pandas.DataFrame) : DataFrame que contiene la columna con fechas.\n",
    "        column (str) : Nombre de la columna con fechas a convertir.\n",
    "        \n",
    "    Returns:\n",
    "        pandas.DataFrame : DataFrame con la columna convertida a tipo datetime.\n",
    "    \"\"\"\n",
    "    df[columna] = pd.to_datetime(df[columna], errors='coerce')\n",
    "    return df"
   ]
  },
  {
   "cell_type": "markdown",
   "id": "c6804841",
   "metadata": {},
   "source": [
    "### Eliminar filas con valores nulos"
   ]
  },
  {
   "cell_type": "code",
   "execution_count": null,
   "id": "7ddb6fc7",
   "metadata": {},
   "outputs": [],
   "source": [
    "import pandas as pd\n",
    "\n",
    "def filas_null(df, columna, umbral=0.05):\n",
    "    \"\"\"\n",
    "    Elimina filas con valores nulos en un DataFrame si son pocas o si la columna no es esencial.\n",
    "    \n",
    "    Args:\n",
    "        df (pandas.DataFrame) : DataFrame que contiene valores nulos.\n",
    "        columna (str) : Nombre de la columna con valores nulos.\n",
    "        umbral (float) : Proporción máxima de valores nulos permitida antes de eliminar las filas (por defecto 5%).\n",
    "        \n",
    "    Returns:\n",
    "        pandas.DataFrame : DataFrame con valores nulos eliminados si cumplen la condición.\n",
    "    \"\"\"\n",
    "    # Calcular la proporción de valores nulos en la columna\n",
    "    proporción_nulos = df[columna].isnull().sum() / len(df)\n",
    "\n",
    "    # Si el porcentaje de valores nulos es menor que el umbral, eliminamos las filas\n",
    "    if proporción_nulos < umbral:\n",
    "        df_limpio = df.dropna(subset=[columna])\n",
    "    else:\n",
    "        # Si la columna es importante y tiene muchos nulos, se puede imputar con la mediana/moda\n",
    "        if df[columna].dtype == 'object':\n",
    "            df_limpio = df.fillna({columna: df[columna].mode()[0]})\n",
    "        else:\n",
    "            df_limpio = df.fillna({columna: df[columna].median()})\n",
    "    \n",
    "    return df_limpio\n"
   ]
  },
  {
   "cell_type": "markdown",
   "id": "43b41f87",
   "metadata": {},
   "source": [
    "## Limpieza del dataframe Netflix_titles.csv"
   ]
  },
  {
   "cell_type": "markdown",
   "id": "83ca7fad",
   "metadata": {},
   "source": [
    "### Carga del dataframe"
   ]
  },
  {
   "cell_type": "code",
   "execution_count": null,
   "id": "8d6a42cb",
   "metadata": {},
   "outputs": [],
   "source": [
    "df_netflix = read_csv(r\"C:\\Users\\FRANCIS\\Documents\\Proyecto_Streaming\\data\\netflix_titles.csv\")"
   ]
  },
  {
   "cell_type": "markdown",
   "id": "a609336b",
   "metadata": {},
   "source": [
    "### Inspección del dataframe"
   ]
  },
  {
   "cell_type": "code",
   "execution_count": null,
   "id": "04f995bb",
   "metadata": {},
   "outputs": [],
   "source": [
    "df_netflix.head()"
   ]
  },
  {
   "cell_type": "code",
   "execution_count": null,
   "id": "9b157fea",
   "metadata": {},
   "outputs": [],
   "source": [
    "df_netflix.info()"
   ]
  },
  {
   "cell_type": "markdown",
   "id": "3c67ab86",
   "metadata": {},
   "source": [
    "### Aplicación de las funciones de limpieza"
   ]
  },
  {
   "cell_type": "code",
   "execution_count": 22,
   "id": "3492a980",
   "metadata": {},
   "outputs": [],
   "source": [
    "df_netflix = convertir_fecha(df_netflix, 'date_added')"
   ]
  },
  {
   "cell_type": "code",
   "execution_count": null,
   "id": "5d5b6306",
   "metadata": {},
   "outputs": [],
   "source": [
    "df_netflix['year_added'] = df_netflix['date_added'].dt.year\n",
    "df_netflix['month_added'] = df_netflix['date_added'].dt.month\n"
   ]
  },
  {
   "cell_type": "code",
   "execution_count": 25,
   "id": "768afae8",
   "metadata": {},
   "outputs": [
    {
     "name": "stdout",
     "output_type": "stream",
     "text": [
      "0       2021.0\n",
      "1       2021.0\n",
      "2       2021.0\n",
      "3       2021.0\n",
      "4       2021.0\n",
      "         ...  \n",
      "8802    2019.0\n",
      "8803    2019.0\n",
      "8804    2019.0\n",
      "8805    2020.0\n",
      "8806    2019.0\n",
      "Name: year_added, Length: 8807, dtype: float64\n"
     ]
    }
   ],
   "source": [
    "print(df_netflix['year_added'])"
   ]
  }
 ],
 "metadata": {
  "kernelspec": {
   "display_name": "venv",
   "language": "python",
   "name": "python3"
  },
  "language_info": {
   "codemirror_mode": {
    "name": "ipython",
    "version": 3
   },
   "file_extension": ".py",
   "mimetype": "text/x-python",
   "name": "python",
   "nbconvert_exporter": "python",
   "pygments_lexer": "ipython3",
   "version": "3.8.10"
  }
 },
 "nbformat": 4,
 "nbformat_minor": 5
}
