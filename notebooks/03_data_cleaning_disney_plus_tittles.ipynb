{
 "cells": [
  {
   "cell_type": "markdown",
   "id": "90cfb8fd",
   "metadata": {},
   "source": [
    "# Limpieza del dataframe disney_plus_titles.csv\n",
    "## Junio 2025\n",
    "## by Francis"
   ]
  },
  {
   "cell_type": "markdown",
   "id": "c6f9fd90",
   "metadata": {},
   "source": [
    "### Importar funciones generales"
   ]
  },
  {
   "cell_type": "code",
   "execution_count": 23,
   "id": "2789d6b5",
   "metadata": {},
   "outputs": [],
   "source": [
    "import sys\n",
    "sys.path.append(r\"C:\\Users\\FRANCIS\\Documents\\Proyecto_Streaming\\scripts\") \n",
    "import utils\n",
    "import pandas as pd"
   ]
  },
  {
   "cell_type": "markdown",
   "id": "df73a21a",
   "metadata": {},
   "source": [
    "### Carga del Dataframe"
   ]
  },
  {
   "cell_type": "code",
   "execution_count": 24,
   "id": "0e191956",
   "metadata": {},
   "outputs": [],
   "source": [
    "df_disney = utils.cargar_datos(r\"C:\\Users\\FRANCIS\\Documents\\Proyecto_Streaming\\data\\disney_plus_titles.csv\")"
   ]
  },
  {
   "cell_type": "markdown",
   "id": "929b2fa1",
   "metadata": {},
   "source": [
    "### Inspección del DataFrame"
   ]
  },
  {
   "cell_type": "code",
   "execution_count": 4,
   "id": "5be1aef5",
   "metadata": {},
   "outputs": [
    {
     "data": {
      "text/html": [
       "<div>\n",
       "<style scoped>\n",
       "    .dataframe tbody tr th:only-of-type {\n",
       "        vertical-align: middle;\n",
       "    }\n",
       "\n",
       "    .dataframe tbody tr th {\n",
       "        vertical-align: top;\n",
       "    }\n",
       "\n",
       "    .dataframe thead th {\n",
       "        text-align: right;\n",
       "    }\n",
       "</style>\n",
       "<table border=\"1\" class=\"dataframe\">\n",
       "  <thead>\n",
       "    <tr style=\"text-align: right;\">\n",
       "      <th></th>\n",
       "      <th>show_id</th>\n",
       "      <th>type</th>\n",
       "      <th>title</th>\n",
       "      <th>director</th>\n",
       "      <th>cast</th>\n",
       "      <th>country</th>\n",
       "      <th>date_added</th>\n",
       "      <th>release_year</th>\n",
       "      <th>rating</th>\n",
       "      <th>duration</th>\n",
       "      <th>listed_in</th>\n",
       "      <th>description</th>\n",
       "    </tr>\n",
       "  </thead>\n",
       "  <tbody>\n",
       "    <tr>\n",
       "      <th>0</th>\n",
       "      <td>s1</td>\n",
       "      <td>Movie</td>\n",
       "      <td>Duck the Halls: A Mickey Mouse Christmas Special</td>\n",
       "      <td>Alonso Ramirez Ramos, Dave Wasson</td>\n",
       "      <td>Chris Diamantopoulos, Tony Anselmo, Tress MacN...</td>\n",
       "      <td>NaN</td>\n",
       "      <td>November 26, 2021</td>\n",
       "      <td>2016</td>\n",
       "      <td>TV-G</td>\n",
       "      <td>23 min</td>\n",
       "      <td>Animation, Family</td>\n",
       "      <td>Join Mickey and the gang as they duck the halls!</td>\n",
       "    </tr>\n",
       "    <tr>\n",
       "      <th>1</th>\n",
       "      <td>s2</td>\n",
       "      <td>Movie</td>\n",
       "      <td>Ernest Saves Christmas</td>\n",
       "      <td>John Cherry</td>\n",
       "      <td>Jim Varney, Noelle Parker, Douglas Seale</td>\n",
       "      <td>NaN</td>\n",
       "      <td>November 26, 2021</td>\n",
       "      <td>1988</td>\n",
       "      <td>PG</td>\n",
       "      <td>91 min</td>\n",
       "      <td>Comedy</td>\n",
       "      <td>Santa Claus passes his magic bag to a new St. ...</td>\n",
       "    </tr>\n",
       "    <tr>\n",
       "      <th>2</th>\n",
       "      <td>s3</td>\n",
       "      <td>Movie</td>\n",
       "      <td>Ice Age: A Mammoth Christmas</td>\n",
       "      <td>Karen Disher</td>\n",
       "      <td>Raymond Albert Romano, John Leguizamo, Denis L...</td>\n",
       "      <td>United States</td>\n",
       "      <td>November 26, 2021</td>\n",
       "      <td>2011</td>\n",
       "      <td>TV-G</td>\n",
       "      <td>23 min</td>\n",
       "      <td>Animation, Comedy, Family</td>\n",
       "      <td>Sid the Sloth is on Santa's naughty list.</td>\n",
       "    </tr>\n",
       "    <tr>\n",
       "      <th>3</th>\n",
       "      <td>s4</td>\n",
       "      <td>Movie</td>\n",
       "      <td>The Queen Family Singalong</td>\n",
       "      <td>Hamish Hamilton</td>\n",
       "      <td>Darren Criss, Adam Lambert, Derek Hough, Alexa...</td>\n",
       "      <td>NaN</td>\n",
       "      <td>November 26, 2021</td>\n",
       "      <td>2021</td>\n",
       "      <td>TV-PG</td>\n",
       "      <td>41 min</td>\n",
       "      <td>Musical</td>\n",
       "      <td>This is real life, not just fantasy!</td>\n",
       "    </tr>\n",
       "    <tr>\n",
       "      <th>4</th>\n",
       "      <td>s5</td>\n",
       "      <td>TV Show</td>\n",
       "      <td>The Beatles: Get Back</td>\n",
       "      <td>NaN</td>\n",
       "      <td>John Lennon, Paul McCartney, George Harrison, ...</td>\n",
       "      <td>NaN</td>\n",
       "      <td>November 25, 2021</td>\n",
       "      <td>2021</td>\n",
       "      <td>NaN</td>\n",
       "      <td>1 Season</td>\n",
       "      <td>Docuseries, Historical, Music</td>\n",
       "      <td>A three-part documentary from Peter Jackson ca...</td>\n",
       "    </tr>\n",
       "  </tbody>\n",
       "</table>\n",
       "</div>"
      ],
      "text/plain": [
       "  show_id     type                                             title  \\\n",
       "0      s1    Movie  Duck the Halls: A Mickey Mouse Christmas Special   \n",
       "1      s2    Movie                            Ernest Saves Christmas   \n",
       "2      s3    Movie                      Ice Age: A Mammoth Christmas   \n",
       "3      s4    Movie                        The Queen Family Singalong   \n",
       "4      s5  TV Show                             The Beatles: Get Back   \n",
       "\n",
       "                            director  \\\n",
       "0  Alonso Ramirez Ramos, Dave Wasson   \n",
       "1                        John Cherry   \n",
       "2                       Karen Disher   \n",
       "3                    Hamish Hamilton   \n",
       "4                                NaN   \n",
       "\n",
       "                                                cast        country  \\\n",
       "0  Chris Diamantopoulos, Tony Anselmo, Tress MacN...            NaN   \n",
       "1           Jim Varney, Noelle Parker, Douglas Seale            NaN   \n",
       "2  Raymond Albert Romano, John Leguizamo, Denis L...  United States   \n",
       "3  Darren Criss, Adam Lambert, Derek Hough, Alexa...            NaN   \n",
       "4  John Lennon, Paul McCartney, George Harrison, ...            NaN   \n",
       "\n",
       "          date_added  release_year rating  duration  \\\n",
       "0  November 26, 2021          2016   TV-G    23 min   \n",
       "1  November 26, 2021          1988     PG    91 min   \n",
       "2  November 26, 2021          2011   TV-G    23 min   \n",
       "3  November 26, 2021          2021  TV-PG    41 min   \n",
       "4  November 25, 2021          2021    NaN  1 Season   \n",
       "\n",
       "                       listed_in  \\\n",
       "0              Animation, Family   \n",
       "1                         Comedy   \n",
       "2      Animation, Comedy, Family   \n",
       "3                        Musical   \n",
       "4  Docuseries, Historical, Music   \n",
       "\n",
       "                                         description  \n",
       "0   Join Mickey and the gang as they duck the halls!  \n",
       "1  Santa Claus passes his magic bag to a new St. ...  \n",
       "2          Sid the Sloth is on Santa's naughty list.  \n",
       "3               This is real life, not just fantasy!  \n",
       "4  A three-part documentary from Peter Jackson ca...  "
      ]
     },
     "execution_count": 4,
     "metadata": {},
     "output_type": "execute_result"
    }
   ],
   "source": [
    "df_disney.head()"
   ]
  },
  {
   "cell_type": "code",
   "execution_count": 6,
   "id": "84b7d996",
   "metadata": {},
   "outputs": [
    {
     "name": "stdout",
     "output_type": "stream",
     "text": [
      "<class 'pandas.core.frame.DataFrame'>\n",
      "RangeIndex: 1450 entries, 0 to 1449\n",
      "Data columns (total 12 columns):\n",
      " #   Column        Non-Null Count  Dtype \n",
      "---  ------        --------------  ----- \n",
      " 0   show_id       1450 non-null   object\n",
      " 1   type          1450 non-null   object\n",
      " 2   title         1450 non-null   object\n",
      " 3   director      977 non-null    object\n",
      " 4   cast          1260 non-null   object\n",
      " 5   country       1231 non-null   object\n",
      " 6   date_added    1447 non-null   object\n",
      " 7   release_year  1450 non-null   int64 \n",
      " 8   rating        1447 non-null   object\n",
      " 9   duration      1450 non-null   object\n",
      " 10  listed_in     1450 non-null   object\n",
      " 11  description   1450 non-null   object\n",
      "dtypes: int64(1), object(11)\n",
      "memory usage: 136.1+ KB\n"
     ]
    }
   ],
   "source": [
    "df_disney.info()"
   ]
  },
  {
   "cell_type": "markdown",
   "id": "979e1368",
   "metadata": {},
   "source": [
    "### Convertir columna con fechas a datetime"
   ]
  },
  {
   "cell_type": "code",
   "execution_count": 25,
   "id": "a3822cb5",
   "metadata": {},
   "outputs": [],
   "source": [
    "df_disney= utils.convertir_a_fecha(df_disney, ['date_added'])"
   ]
  },
  {
   "cell_type": "code",
   "execution_count": 8,
   "id": "a14e9f93",
   "metadata": {},
   "outputs": [
    {
     "data": {
      "text/plain": [
       "show_id                 object\n",
       "type                    object\n",
       "title                   object\n",
       "director                object\n",
       "cast                    object\n",
       "country                 object\n",
       "date_added      datetime64[ns]\n",
       "release_year             int64\n",
       "rating                  object\n",
       "duration                object\n",
       "listed_in               object\n",
       "description             object\n",
       "dtype: object"
      ]
     },
     "execution_count": 8,
     "metadata": {},
     "output_type": "execute_result"
    }
   ],
   "source": [
    "df_disney.dtypes"
   ]
  },
  {
   "cell_type": "markdown",
   "id": "a2670628",
   "metadata": {},
   "source": [
    "### Ver porcentaje de valores nulos"
   ]
  },
  {
   "cell_type": "code",
   "execution_count": 9,
   "id": "e5f22ffa",
   "metadata": {},
   "outputs": [
    {
     "data": {
      "text/html": [
       "<div>\n",
       "<style scoped>\n",
       "    .dataframe tbody tr th:only-of-type {\n",
       "        vertical-align: middle;\n",
       "    }\n",
       "\n",
       "    .dataframe tbody tr th {\n",
       "        vertical-align: top;\n",
       "    }\n",
       "\n",
       "    .dataframe thead th {\n",
       "        text-align: right;\n",
       "    }\n",
       "</style>\n",
       "<table border=\"1\" class=\"dataframe\">\n",
       "  <thead>\n",
       "    <tr style=\"text-align: right;\">\n",
       "      <th></th>\n",
       "      <th>cantidad_nulos</th>\n",
       "      <th>porcentaje_nulos</th>\n",
       "    </tr>\n",
       "  </thead>\n",
       "  <tbody>\n",
       "    <tr>\n",
       "      <th>director</th>\n",
       "      <td>473</td>\n",
       "      <td>32.620690</td>\n",
       "    </tr>\n",
       "    <tr>\n",
       "      <th>country</th>\n",
       "      <td>219</td>\n",
       "      <td>15.103448</td>\n",
       "    </tr>\n",
       "    <tr>\n",
       "      <th>cast</th>\n",
       "      <td>190</td>\n",
       "      <td>13.103448</td>\n",
       "    </tr>\n",
       "    <tr>\n",
       "      <th>date_added</th>\n",
       "      <td>3</td>\n",
       "      <td>0.206897</td>\n",
       "    </tr>\n",
       "    <tr>\n",
       "      <th>rating</th>\n",
       "      <td>3</td>\n",
       "      <td>0.206897</td>\n",
       "    </tr>\n",
       "    <tr>\n",
       "      <th>show_id</th>\n",
       "      <td>0</td>\n",
       "      <td>0.000000</td>\n",
       "    </tr>\n",
       "    <tr>\n",
       "      <th>type</th>\n",
       "      <td>0</td>\n",
       "      <td>0.000000</td>\n",
       "    </tr>\n",
       "    <tr>\n",
       "      <th>title</th>\n",
       "      <td>0</td>\n",
       "      <td>0.000000</td>\n",
       "    </tr>\n",
       "    <tr>\n",
       "      <th>release_year</th>\n",
       "      <td>0</td>\n",
       "      <td>0.000000</td>\n",
       "    </tr>\n",
       "    <tr>\n",
       "      <th>duration</th>\n",
       "      <td>0</td>\n",
       "      <td>0.000000</td>\n",
       "    </tr>\n",
       "    <tr>\n",
       "      <th>listed_in</th>\n",
       "      <td>0</td>\n",
       "      <td>0.000000</td>\n",
       "    </tr>\n",
       "    <tr>\n",
       "      <th>description</th>\n",
       "      <td>0</td>\n",
       "      <td>0.000000</td>\n",
       "    </tr>\n",
       "  </tbody>\n",
       "</table>\n",
       "</div>"
      ],
      "text/plain": [
       "              cantidad_nulos  porcentaje_nulos\n",
       "director                 473         32.620690\n",
       "country                  219         15.103448\n",
       "cast                     190         13.103448\n",
       "date_added                 3          0.206897\n",
       "rating                     3          0.206897\n",
       "show_id                    0          0.000000\n",
       "type                       0          0.000000\n",
       "title                      0          0.000000\n",
       "release_year               0          0.000000\n",
       "duration                   0          0.000000\n",
       "listed_in                  0          0.000000\n",
       "description                0          0.000000"
      ]
     },
     "execution_count": 9,
     "metadata": {},
     "output_type": "execute_result"
    }
   ],
   "source": [
    "utils.resumen_nulos(df_disney)"
   ]
  },
  {
   "cell_type": "markdown",
   "id": "6739d9bc",
   "metadata": {},
   "source": [
    "### Evaluamos en las columnas que no son importantes para los objetivos de los análisis y que tienen valores nulos "
   ]
  },
  {
   "cell_type": "code",
   "execution_count": 26,
   "id": "6ff6dd48",
   "metadata": {},
   "outputs": [
    {
     "data": {
      "text/plain": [
       "'    show_id     type                     title director                                                       cast country date_added  release_year rating  duration                      listed_in                                                                                        description\\n4        s5  TV Show     The Beatles: Get Back      NaN  John Lennon, Paul McCartney, George Harrison, Ringo Starr     NaN 2021-11-25          2021    NaN  1 Season  Docuseries, Historical, Music  A three-part documentary from Peter Jackson capturing a moment in music history with The Beatles.\\n280    s281  TV Show  Marvel Studios ASSEMBLED      NaN                                                        NaN     NaN 2021-03-12          2021    NaN  1 Season          Anthology, Docuseries             ASSEMBLED is an immersive series of docu-specials examining the next phase of the MCU.'"
      ]
     },
     "execution_count": 26,
     "metadata": {},
     "output_type": "execute_result"
    }
   ],
   "source": [
    "evaluar_director = utils.evaluar_fila(df_disney, \"director\", [\"date_added\", \"rating\", \"show_id\",\"listed_in\", \"country\", \"type\"])\n",
    "evaluar_director.to_string() #sí hay suficientes nulos para eliminar filas (70%< es not null)"
   ]
  },
  {
   "cell_type": "code",
   "execution_count": 27,
   "id": "7e968ee4",
   "metadata": {},
   "outputs": [],
   "source": [
    "df_disney = df_disney.drop(evaluar_director.index)"
   ]
  },
  {
   "cell_type": "code",
   "execution_count": 28,
   "id": "f7cbcdda",
   "metadata": {},
   "outputs": [
    {
     "data": {
      "text/plain": [
       "'Empty DataFrame\\nColumns: [show_id, type, title, director, cast, country, date_added, release_year, rating, duration, listed_in, description]\\nIndex: []'"
      ]
     },
     "execution_count": 28,
     "metadata": {},
     "output_type": "execute_result"
    }
   ],
   "source": [
    "evaluar_cast = utils.evaluar_fila(df_disney, \"cast\", [\"date_added\", \"rating\", \"show_id\", \"listed_in\", \"country\", \"type\"])\n",
    "evaluar_cast.to_string() #no hay suficientes nulos para eliminar filas (>70% es not null)"
   ]
  },
  {
   "cell_type": "markdown",
   "id": "481f31b3",
   "metadata": {},
   "source": [
    "### Reemplazamos en todas las columnas object del DataFrame los datos nulos por \"Desconocido\""
   ]
  },
  {
   "cell_type": "code",
   "execution_count": 29,
   "id": "c3e30e3c",
   "metadata": {},
   "outputs": [],
   "source": [
    "columnas_object= ['country', 'rating',\"director\", \"cast\"]\n",
    "df_disney[columnas_object]= df_disney[columnas_object].fillna(\"Desconocido\")"
   ]
  },
  {
   "cell_type": "markdown",
   "id": "472602ee",
   "metadata": {},
   "source": [
    "### Se convierte date_added a int para poder calcular la moda y mediana dentro de sus datos"
   ]
  },
  {
   "cell_type": "code",
   "execution_count": 30,
   "id": "c0f374db",
   "metadata": {},
   "outputs": [],
   "source": [
    "df_disney['date_added']= df_disney['date_added'].astype('int64')"
   ]
  },
  {
   "cell_type": "code",
   "execution_count": 15,
   "id": "4098a2fd",
   "metadata": {},
   "outputs": [
    {
     "data": {
      "text/plain": [
       "show_id         object\n",
       "type            object\n",
       "title           object\n",
       "director        object\n",
       "cast            object\n",
       "country         object\n",
       "date_added       int64\n",
       "release_year     int64\n",
       "rating          object\n",
       "duration        object\n",
       "listed_in       object\n",
       "description     object\n",
       "dtype: object"
      ]
     },
     "execution_count": 15,
     "metadata": {},
     "output_type": "execute_result"
    }
   ],
   "source": [
    "df_disney.dtypes"
   ]
  },
  {
   "cell_type": "markdown",
   "id": "40ab3a42",
   "metadata": {},
   "source": [
    "### Se aplica la función que reemplaza los valores nulos en date_added por la mediana o moda de la agrupación de datos "
   ]
  },
  {
   "cell_type": "code",
   "execution_count": null,
   "id": "9cbdf3a3",
   "metadata": {},
   "outputs": [],
   "source": [
    "df_disney = utils.elegir_imputacion(df_disney, columna=\"date_added\", agrupacion=[\"listed_in\", \"type\", \"country\"], umbral_dispersion=60)"
   ]
  },
  {
   "cell_type": "markdown",
   "id": "cb4f4902",
   "metadata": {},
   "source": [
    "### Se verifica si hay valores extraños o valores nulos después del reemplazo"
   ]
  },
  {
   "cell_type": "code",
   "execution_count": null,
   "id": "eaab45db",
   "metadata": {},
   "outputs": [],
   "source": [
    "print(df_disney[\"date_added\"].unique())  \n",
    "print(df_disney[\"date_added\"].isnull().sum())  "
   ]
  },
  {
   "cell_type": "markdown",
   "id": "222fbf75",
   "metadata": {},
   "source": [
    "### Los valores están en formato int con nanosegundos: se hace la conversión a segundos con timestamp para convertir a datetime"
   ]
  },
  {
   "cell_type": "code",
   "execution_count": 33,
   "id": "0948c467",
   "metadata": {},
   "outputs": [],
   "source": [
    "# Filtrar valores extremos antes de la conversión\n",
    "df_disney = df_disney[df_disney[\"date_added\"] // 10**9 > 0]  \n",
    "df_disney = df_disney[df_disney[\"date_added\"] // 10**9 < 1893456000] \n",
    "\n",
    "df_disney[\"date_added\"] = pd.to_datetime(df_disney[\"date_added\"] // 10**9, unit=\"s\", errors=\"coerce\")\n"
   ]
  },
  {
   "cell_type": "markdown",
   "id": "da7f8aaa",
   "metadata": {},
   "source": [
    "### Se verifica aleatoriamente los datos, se confirma si hay valores nulos todavía y si la conversión a datetime fue realizada"
   ]
  },
  {
   "cell_type": "code",
   "execution_count": null,
   "id": "eb9d5bfd",
   "metadata": {},
   "outputs": [],
   "source": [
    "print(df_disney[['date_added']].sample(10))\n",
    "print(df_disney['date_added'].isnull().sum())\n",
    "df_disney.dtypes"
   ]
  },
  {
   "cell_type": "markdown",
   "id": "d8449a77",
   "metadata": {},
   "source": [
    "### Se crean las columnas derivadas de date_added y se convierten a tipo int"
   ]
  },
  {
   "cell_type": "code",
   "execution_count": 35,
   "id": "fd1cc2c0",
   "metadata": {},
   "outputs": [],
   "source": [
    "df_disney['year_added']= df_disney['date_added'].dt.year.astype(\"Int64\")\n",
    "df_disney['month_added']= df_disney['date_added'].dt.month.astype(\"Int64\")"
   ]
  },
  {
   "cell_type": "code",
   "execution_count": null,
   "id": "249c25ad",
   "metadata": {},
   "outputs": [],
   "source": [
    "print(df_disney[\"date_added\"].isnull().sum())  # ¿Quedan valores nulos después de todo?\n",
    "print(df_disney[[\"date_added\", \"month_added\", \"year_added\"]].sample(10))  # Revisión rápida"
   ]
  },
  {
   "cell_type": "code",
   "execution_count": 37,
   "id": "a174edc4",
   "metadata": {},
   "outputs": [
    {
     "data": {
      "text/html": [
       "<div>\n",
       "<style scoped>\n",
       "    .dataframe tbody tr th:only-of-type {\n",
       "        vertical-align: middle;\n",
       "    }\n",
       "\n",
       "    .dataframe tbody tr th {\n",
       "        vertical-align: top;\n",
       "    }\n",
       "\n",
       "    .dataframe thead th {\n",
       "        text-align: right;\n",
       "    }\n",
       "</style>\n",
       "<table border=\"1\" class=\"dataframe\">\n",
       "  <thead>\n",
       "    <tr style=\"text-align: right;\">\n",
       "      <th></th>\n",
       "      <th>cantidad_nulos</th>\n",
       "      <th>porcentaje_nulos</th>\n",
       "    </tr>\n",
       "  </thead>\n",
       "  <tbody>\n",
       "    <tr>\n",
       "      <th>show_id</th>\n",
       "      <td>0</td>\n",
       "      <td>0.0</td>\n",
       "    </tr>\n",
       "    <tr>\n",
       "      <th>type</th>\n",
       "      <td>0</td>\n",
       "      <td>0.0</td>\n",
       "    </tr>\n",
       "    <tr>\n",
       "      <th>title</th>\n",
       "      <td>0</td>\n",
       "      <td>0.0</td>\n",
       "    </tr>\n",
       "    <tr>\n",
       "      <th>director</th>\n",
       "      <td>0</td>\n",
       "      <td>0.0</td>\n",
       "    </tr>\n",
       "    <tr>\n",
       "      <th>cast</th>\n",
       "      <td>0</td>\n",
       "      <td>0.0</td>\n",
       "    </tr>\n",
       "    <tr>\n",
       "      <th>country</th>\n",
       "      <td>0</td>\n",
       "      <td>0.0</td>\n",
       "    </tr>\n",
       "    <tr>\n",
       "      <th>date_added</th>\n",
       "      <td>0</td>\n",
       "      <td>0.0</td>\n",
       "    </tr>\n",
       "    <tr>\n",
       "      <th>release_year</th>\n",
       "      <td>0</td>\n",
       "      <td>0.0</td>\n",
       "    </tr>\n",
       "    <tr>\n",
       "      <th>rating</th>\n",
       "      <td>0</td>\n",
       "      <td>0.0</td>\n",
       "    </tr>\n",
       "    <tr>\n",
       "      <th>duration</th>\n",
       "      <td>0</td>\n",
       "      <td>0.0</td>\n",
       "    </tr>\n",
       "    <tr>\n",
       "      <th>listed_in</th>\n",
       "      <td>0</td>\n",
       "      <td>0.0</td>\n",
       "    </tr>\n",
       "    <tr>\n",
       "      <th>description</th>\n",
       "      <td>0</td>\n",
       "      <td>0.0</td>\n",
       "    </tr>\n",
       "    <tr>\n",
       "      <th>year_added</th>\n",
       "      <td>0</td>\n",
       "      <td>0.0</td>\n",
       "    </tr>\n",
       "    <tr>\n",
       "      <th>month_added</th>\n",
       "      <td>0</td>\n",
       "      <td>0.0</td>\n",
       "    </tr>\n",
       "  </tbody>\n",
       "</table>\n",
       "</div>"
      ],
      "text/plain": [
       "              cantidad_nulos  porcentaje_nulos\n",
       "show_id                    0               0.0\n",
       "type                       0               0.0\n",
       "title                      0               0.0\n",
       "director                   0               0.0\n",
       "cast                       0               0.0\n",
       "country                    0               0.0\n",
       "date_added                 0               0.0\n",
       "release_year               0               0.0\n",
       "rating                     0               0.0\n",
       "duration                   0               0.0\n",
       "listed_in                  0               0.0\n",
       "description                0               0.0\n",
       "year_added                 0               0.0\n",
       "month_added                0               0.0"
      ]
     },
     "execution_count": 37,
     "metadata": {},
     "output_type": "execute_result"
    }
   ],
   "source": [
    "utils.resumen_nulos(df_disney)"
   ]
  },
  {
   "cell_type": "markdown",
   "id": "5adb8bae",
   "metadata": {},
   "source": [
    "### Datos duplicados"
   ]
  },
  {
   "cell_type": "code",
   "execution_count": null,
   "id": "bc86777d",
   "metadata": {},
   "outputs": [
    {
     "data": {
      "text/plain": [
       "0"
      ]
     },
     "execution_count": 38,
     "metadata": {},
     "output_type": "execute_result"
    }
   ],
   "source": [
    "df_disney.duplicated().sum() #No hay datos duplicados"
   ]
  },
  {
   "cell_type": "markdown",
   "id": "f914b0ca",
   "metadata": {},
   "source": [
    "### Estandarizar los datos según la columna"
   ]
  },
  {
   "cell_type": "code",
   "execution_count": 39,
   "id": "1a7e932b",
   "metadata": {},
   "outputs": [],
   "source": [
    "df_disney = utils.limpiar_texto(df_disney, [\"type\", \"country\", \"rating\", \"listed_in\",\"title\", \"director\", \"cast\",\"duration\", \"description\"], conservar_mayusculas=[\"title\", \"director\", \"cast\",\"duration\", \"description\"]) "
   ]
  },
  {
   "cell_type": "code",
   "execution_count": 40,
   "id": "4d335c53",
   "metadata": {},
   "outputs": [
    {
     "data": {
      "text/html": [
       "<div>\n",
       "<style scoped>\n",
       "    .dataframe tbody tr th:only-of-type {\n",
       "        vertical-align: middle;\n",
       "    }\n",
       "\n",
       "    .dataframe tbody tr th {\n",
       "        vertical-align: top;\n",
       "    }\n",
       "\n",
       "    .dataframe thead th {\n",
       "        text-align: right;\n",
       "    }\n",
       "</style>\n",
       "<table border=\"1\" class=\"dataframe\">\n",
       "  <thead>\n",
       "    <tr style=\"text-align: right;\">\n",
       "      <th></th>\n",
       "      <th>show_id</th>\n",
       "      <th>type</th>\n",
       "      <th>title</th>\n",
       "      <th>director</th>\n",
       "      <th>cast</th>\n",
       "      <th>country</th>\n",
       "      <th>date_added</th>\n",
       "      <th>release_year</th>\n",
       "      <th>rating</th>\n",
       "      <th>duration</th>\n",
       "      <th>listed_in</th>\n",
       "      <th>description</th>\n",
       "      <th>year_added</th>\n",
       "      <th>month_added</th>\n",
       "    </tr>\n",
       "  </thead>\n",
       "  <tbody>\n",
       "    <tr>\n",
       "      <th>0</th>\n",
       "      <td>s1</td>\n",
       "      <td>movie</td>\n",
       "      <td>Duck the Halls: A Mickey Mouse Christmas Special</td>\n",
       "      <td>Alonso Ramirez Ramos, Dave Wasson</td>\n",
       "      <td>Chris Diamantopoulos, Tony Anselmo, Tress MacN...</td>\n",
       "      <td>desconocido</td>\n",
       "      <td>2021-11-26</td>\n",
       "      <td>2016</td>\n",
       "      <td>tv-g</td>\n",
       "      <td>23 min</td>\n",
       "      <td>animation, family</td>\n",
       "      <td>Join Mickey and the gang as they duck the halls!</td>\n",
       "      <td>2021</td>\n",
       "      <td>11</td>\n",
       "    </tr>\n",
       "    <tr>\n",
       "      <th>1</th>\n",
       "      <td>s2</td>\n",
       "      <td>movie</td>\n",
       "      <td>Ernest Saves Christmas</td>\n",
       "      <td>John Cherry</td>\n",
       "      <td>Jim Varney, Noelle Parker, Douglas Seale</td>\n",
       "      <td>desconocido</td>\n",
       "      <td>2021-11-26</td>\n",
       "      <td>1988</td>\n",
       "      <td>pg</td>\n",
       "      <td>91 min</td>\n",
       "      <td>comedy</td>\n",
       "      <td>Santa Claus passes his magic bag to a new St. ...</td>\n",
       "      <td>2021</td>\n",
       "      <td>11</td>\n",
       "    </tr>\n",
       "    <tr>\n",
       "      <th>2</th>\n",
       "      <td>s3</td>\n",
       "      <td>movie</td>\n",
       "      <td>Ice Age: A Mammoth Christmas</td>\n",
       "      <td>Karen Disher</td>\n",
       "      <td>Raymond Albert Romano, John Leguizamo, Denis L...</td>\n",
       "      <td>united states</td>\n",
       "      <td>2021-11-26</td>\n",
       "      <td>2011</td>\n",
       "      <td>tv-g</td>\n",
       "      <td>23 min</td>\n",
       "      <td>animation, comedy, family</td>\n",
       "      <td>Sid the Sloth is on Santa's naughty list.</td>\n",
       "      <td>2021</td>\n",
       "      <td>11</td>\n",
       "    </tr>\n",
       "    <tr>\n",
       "      <th>3</th>\n",
       "      <td>s4</td>\n",
       "      <td>movie</td>\n",
       "      <td>The Queen Family Singalong</td>\n",
       "      <td>Hamish Hamilton</td>\n",
       "      <td>Darren Criss, Adam Lambert, Derek Hough, Alexa...</td>\n",
       "      <td>desconocido</td>\n",
       "      <td>2021-11-26</td>\n",
       "      <td>2021</td>\n",
       "      <td>tv-pg</td>\n",
       "      <td>41 min</td>\n",
       "      <td>musical</td>\n",
       "      <td>This is real life, not just fantasy!</td>\n",
       "      <td>2021</td>\n",
       "      <td>11</td>\n",
       "    </tr>\n",
       "    <tr>\n",
       "      <th>5</th>\n",
       "      <td>s6</td>\n",
       "      <td>movie</td>\n",
       "      <td>Becoming Cousteau</td>\n",
       "      <td>Liz Garbus</td>\n",
       "      <td>Jacques Yves Cousteau, Vincent Cassel</td>\n",
       "      <td>united states</td>\n",
       "      <td>2021-11-24</td>\n",
       "      <td>2021</td>\n",
       "      <td>pg-13</td>\n",
       "      <td>94 min</td>\n",
       "      <td>biographical, documentary</td>\n",
       "      <td>An inside look at the legendary life of advent...</td>\n",
       "      <td>2021</td>\n",
       "      <td>11</td>\n",
       "    </tr>\n",
       "  </tbody>\n",
       "</table>\n",
       "</div>"
      ],
      "text/plain": [
       "  show_id   type                                             title  \\\n",
       "0      s1  movie  Duck the Halls: A Mickey Mouse Christmas Special   \n",
       "1      s2  movie                            Ernest Saves Christmas   \n",
       "2      s3  movie                      Ice Age: A Mammoth Christmas   \n",
       "3      s4  movie                        The Queen Family Singalong   \n",
       "5      s6  movie                                 Becoming Cousteau   \n",
       "\n",
       "                            director  \\\n",
       "0  Alonso Ramirez Ramos, Dave Wasson   \n",
       "1                        John Cherry   \n",
       "2                       Karen Disher   \n",
       "3                    Hamish Hamilton   \n",
       "5                         Liz Garbus   \n",
       "\n",
       "                                                cast        country  \\\n",
       "0  Chris Diamantopoulos, Tony Anselmo, Tress MacN...    desconocido   \n",
       "1           Jim Varney, Noelle Parker, Douglas Seale    desconocido   \n",
       "2  Raymond Albert Romano, John Leguizamo, Denis L...  united states   \n",
       "3  Darren Criss, Adam Lambert, Derek Hough, Alexa...    desconocido   \n",
       "5              Jacques Yves Cousteau, Vincent Cassel  united states   \n",
       "\n",
       "  date_added  release_year rating duration                  listed_in  \\\n",
       "0 2021-11-26          2016   tv-g   23 min          animation, family   \n",
       "1 2021-11-26          1988     pg   91 min                     comedy   \n",
       "2 2021-11-26          2011   tv-g   23 min  animation, comedy, family   \n",
       "3 2021-11-26          2021  tv-pg   41 min                    musical   \n",
       "5 2021-11-24          2021  pg-13   94 min  biographical, documentary   \n",
       "\n",
       "                                         description  year_added  month_added  \n",
       "0   Join Mickey and the gang as they duck the halls!        2021           11  \n",
       "1  Santa Claus passes his magic bag to a new St. ...        2021           11  \n",
       "2          Sid the Sloth is on Santa's naughty list.        2021           11  \n",
       "3               This is real life, not just fantasy!        2021           11  \n",
       "5  An inside look at the legendary life of advent...        2021           11  "
      ]
     },
     "execution_count": 40,
     "metadata": {},
     "output_type": "execute_result"
    }
   ],
   "source": [
    "df_disney.head()"
   ]
  },
  {
   "cell_type": "code",
   "execution_count": 41,
   "id": "7b0407f1",
   "metadata": {},
   "outputs": [
    {
     "data": {
      "text/plain": [
       "show_id                 object\n",
       "type                    object\n",
       "title                   object\n",
       "director                object\n",
       "cast                    object\n",
       "country                 object\n",
       "date_added      datetime64[ns]\n",
       "release_year             int64\n",
       "rating                  object\n",
       "duration                object\n",
       "listed_in               object\n",
       "description             object\n",
       "year_added               Int64\n",
       "month_added              Int64\n",
       "dtype: object"
      ]
     },
     "execution_count": 41,
     "metadata": {},
     "output_type": "execute_result"
    }
   ],
   "source": [
    "df_disney.dtypes"
   ]
  },
  {
   "cell_type": "markdown",
   "id": "c0f65635",
   "metadata": {},
   "source": [
    "### Guardar el DataFrame limpio"
   ]
  },
  {
   "cell_type": "code",
   "execution_count": 42,
   "id": "550ef06a",
   "metadata": {},
   "outputs": [],
   "source": [
    "df_disney.to_csv(\"disney_limpio.csv\", index=False)  \n",
    "df_disney.to_parquet(\"disney_limpio.parquet\")  "
   ]
  }
 ],
 "metadata": {
  "kernelspec": {
   "display_name": "venv",
   "language": "python",
   "name": "python3"
  },
  "language_info": {
   "codemirror_mode": {
    "name": "ipython",
    "version": 3
   },
   "file_extension": ".py",
   "mimetype": "text/x-python",
   "name": "python",
   "nbconvert_exporter": "python",
   "pygments_lexer": "ipython3",
   "version": "3.8.10"
  }
 },
 "nbformat": 4,
 "nbformat_minor": 5
}
